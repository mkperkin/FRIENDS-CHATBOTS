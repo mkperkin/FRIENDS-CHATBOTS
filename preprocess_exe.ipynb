{
 "cells": [
  {
   "cell_type": "code",
   "execution_count": 1,
   "metadata": {
    "collapsed": false
   },
   "outputs": [],
   "source": [
    "from __future__ import absolute_import\n",
    "from __future__ import division\n",
    "from __future__ import print_function\n",
    "\n",
    "import os\n",
    "import sys\n",
    "import re\n",
    "from preprocess_helpers import spanish_prep, stripNonConversation, findMostFreqSpeaker, separateData\n",
    "import badword_list\n"
   ]
  },
  {
   "cell_type": "code",
   "execution_count": 2,
   "metadata": {
    "collapsed": false
   },
   "outputs": [],
   "source": [
    "lang_flag = 0   # 1 is English # 0 is Spanish\n",
    "\n",
    "directory_English = '/Users/smokey/Desktop/FinalProjectData/Friends_English/'\n",
    "directory_Spanish ='/Users/smokey/Desktop/FinalProjectData/Friends_Spanish/'\n",
    "tmp_directory_English = '/Users/smokey/Desktop/FinalProjectData/temporary/English_tmp/'\n",
    "tmp_directory_Spanish = '/Users/smokey/Desktop/FinalProjectData/temporary/Spanish_tmp/'\n",
    "final_directory = '/Users/smokey/LIGN165_finalproject/final/'\n",
    "\n",
    "if lang_flag:\n",
    "    directory = directory_English\n",
    "    tmp_directory = tmp_directory_English\n",
    "    badWords = badword_list.english      # to be removed\n",
    "    enc_file = 'enc_dataRaw_English.txt' # output files\n",
    "    dec_file = 'dec_dataRaw_English.txt'\n",
    "else:\n",
    "    directory = directory_Spanish\n",
    "    tmp_directory = tmp_directory_Spanish       \n",
    "    badWords = badword_list.spanish     # to be removed\n",
    "    enc_file = 'enc_dataRaw_Spanish.txt' # output files\n",
    "    dec_file = 'dec_dataRaw_Spanish.txt'"
   ]
  },
  {
   "cell_type": "code",
   "execution_count": 3,
   "metadata": {
    "collapsed": false,
    "scrolled": false
   },
   "outputs": [
    {
     "name": "stdout",
     "output_type": "stream",
     "text": [
      "File:tmp_asciiRAW_S2E10_Spanish.txt\n",
      "File:tmp_asciiRAW_S2E11_Spanish.txt\n",
      "File:tmp_asciiRAW_S2E12_Spanish.txt\n",
      "File:tmp_asciiRAW_S2E13_Spanish.txt\n",
      "File:tmp_asciiRAW_S2E14_Spanish.txt\n",
      "File:tmp_asciiRAW_S2E15_Spanish.txt\n",
      "File:tmp_asciiRAW_S2E16_Spanish.txt\n",
      "File:tmp_asciiRAW_S2E17_Spanish.txt\n",
      "File:tmp_asciiRAW_S2E18_Spanish.txt\n",
      "File:tmp_asciiRAW_S2E19_Spanish.txt\n",
      "File:tmp_asciiRAW_S2E1_Spanish.txt\n",
      "File:tmp_asciiRAW_S2E20_Spanish.txt\n",
      "File:tmp_asciiRAW_S2E21_Spanish.txt\n",
      "File:tmp_asciiRAW_S2E22_Spanish.txt\n",
      "File:tmp_asciiRAW_S2E23_Spanish.txt\n",
      "File:tmp_asciiRAW_S2E24_Spanish.txt\n",
      "File:tmp_asciiRAW_S2E2_Spanish.txt\n",
      "File:tmp_asciiRAW_S2E3_Spanish.txt\n",
      "File:tmp_asciiRAW_S2E4_Spanish.txt\n",
      "File:tmp_asciiRAW_S2E5_Spanish.txt\n",
      "File:tmp_asciiRAW_S2E6_Spanish.txt\n",
      "File:tmp_asciiRAW_S2E7_Spanish.txt\n",
      "File:tmp_asciiRAW_S2E8_Spanish.txt\n",
      "File:tmp_asciiRAW_S2E9_Spanish.txt\n",
      "File:tmp_asciiRAW_S3E10_Spanish.txt\n",
      "File:tmp_asciiRAW_S3E11_Spanish.txt\n",
      "File:tmp_asciiRAW_S3E12_Spanish.txt\n",
      "File:tmp_asciiRAW_S3E13_Spanish.txt\n",
      "File:tmp_asciiRAW_S3E14_Spanish.txt\n",
      "File:tmp_asciiRAW_S3E15_Spanish.txt\n",
      "File:tmp_asciiRAW_S3E16_Spanish.txt\n",
      "File:tmp_asciiRAW_S3E17_Spanish.txt\n",
      "File:tmp_asciiRAW_S3E18_Spanish.txt\n",
      "File:tmp_asciiRAW_S3E19_Spanish.txt\n",
      "File:tmp_asciiRAW_S3E1_Spanish.txt\n",
      "File:tmp_asciiRAW_S3E20_Spanish.txt\n",
      "File:tmp_asciiRAW_S3E21_Spanish.txt\n",
      "File:tmp_asciiRAW_S3E22_Spanish.txt\n",
      "File:tmp_asciiRAW_S3E23_Spanish.txt\n",
      "File:tmp_asciiRAW_S3E24_Spanish.txt\n",
      "File:tmp_asciiRAW_S3E25_Spanish.txt\n",
      "File:tmp_asciiRAW_S3E2_Spanish.txt\n",
      "File:tmp_asciiRAW_S3E3_Spanish.txt\n",
      "File:tmp_asciiRAW_S3E4_Spanish.txt\n",
      "File:tmp_asciiRAW_S3E5_Spanish.txt\n",
      "File:tmp_asciiRAW_S3E6_Spanish.txt\n",
      "File:tmp_asciiRAW_S3E7_Spanish.txt\n",
      "File:tmp_asciiRAW_S3E8_Spanish.txt\n",
      "File:tmp_asciiRAW_S3E9_Spanish.txt\n"
     ]
    }
   ],
   "source": [
    "count = 0\n",
    "for filename in os.listdir(directory):\n",
    "    rawInputFile = filename\n",
    "    rawInputPath = os.path.join(directory, rawInputFile)\n",
    "    \n",
    "    if (not lang_flag): # spanish files\n",
    "        tmp_asciiFile = 'tmp_ascii' + rawInputFile\n",
    "        tmp_asciiPath = os.path.join(tmp_directory, tmp_asciiFile)\n",
    "        spanish_prep(rawInputPath, tmp_asciiPath, badWords)\n",
    "        \n",
    "        rawInputFile = tmp_asciiFile\n",
    "        rawInputPath = tmp_asciiPath # data changed from unicode to ascii\n",
    "        \n",
    "    tmpOutputFile = \"tmp_\" + rawInputFile\n",
    "    print('File:' + rawInputFile)\n",
    "    rawOutputPath = os.path.join(tmp_directory, tmpOutputFile)\n",
    "    rawProcessedPath = os.path.join(tmp_directory, tmpOutputFile)\n",
    "\n",
    "    enc_dataPath = os.path.join(final_directory, enc_file)\n",
    "    dec_dataPath = os.path.join(final_directory, dec_file)\n",
    "\n",
    "    start_idx = rawInputFile.find('RAW_') + len('RAW_')\n",
    "    end_idx = rawInputFile.find('.txt')\n",
    "    showID = rawInputFile[start_idx:end_idx]\n",
    "    \n",
    "    stripNonConversation(rawInputPath, rawOutputPath, badWords)\n",
    "    mostFreqActor = findMostFreqSpeaker(rawProcessedPath)\n",
    "    separateData(rawProcessedPath,mostFreqActor, enc_dataPath, dec_dataPath, showID)\n",
    "    \n",
    "    count = count + 1"
   ]
  },
  {
   "cell_type": "code",
   "execution_count": null,
   "metadata": {
    "collapsed": false
   },
   "outputs": [],
   "source": [
    "enc_dataPath = os.path.join(final_directory, enc_file)\n",
    "dec_dataPath = os.path.join(final_directory, dec_file)\n",
    "\n",
    "with open(enc_dataPath) as f:\n",
    "    numlines1 = sum(1 for line in f)\n",
    "with open(dec_dataPath) as f:\n",
    "    numlines2 = sum(1 for line in f)\n",
    "assert (numlines1==numlines2)\n",
    "\n",
    "\n",
    "   "
   ]
  },
  {
   "cell_type": "code",
   "execution_count": null,
   "metadata": {
    "collapsed": true
   },
   "outputs": [],
   "source": [
    "def mini_test():\n",
    "    directory_English = '/Users/smokey/Desktop/FinalProjectData/Friends_English/'\n",
    "    tmp_directory_English = '/Users/smokey/Desktop/FinalProjectData/temporary/English_tmp/'\n",
    "    final_directory = '/Users/smokey/LIGN165_finalproject/final/'\n",
    "    directory = directory_English\n",
    "    tmp_directory = tmp_directory_English\n",
    "    badWords = badword_list.english      # to be removed\n",
    "    enc_file = 'enc_dataRaw_English.txt' # output files\n",
    "    dec_file = 'dec_dataRaw_English.txt'\n",
    "\n",
    "\n",
    "\n",
    "    rawInputFile = 'RAW_S3E8_English.txt'\n",
    "    tmpOutputFile = \"tmp_\" + rawInputFile\n",
    "\n",
    "    rawInputPath = os.path.join(directory, rawInputFile)\n",
    "    print(rawInputPath)\n",
    "    rawOutputPath = os.path.join(tmp_directory, tmpOutputFile)\n",
    "    rawProcessedPath = os.path.join(tmp_directory, tmpOutputFile)\n",
    "\n",
    "    enc_dataPath = os.path.join(final_directory, enc_file)\n",
    "    dec_dataPath = os.path.join(final_directory, dec_file)\n",
    "\n",
    "    start_idx = rawInputFile.find('RAW_') + len('RAW_')\n",
    "    end_idx = rawInputFile.find('.txt')\n",
    "    showID = rawInputFile[start_idx:end_idx]\n",
    "\n",
    "    stripNonConversation(rawInputPath, rawOutputPath, badWords)\n",
    "    mostFreqActor = findMostFreqSpeaker(rawProcessedPath)\n",
    "    separateData(rawProcessedPath,mostFreqActor, enc_dataPath, dec_dataPath, showID)"
   ]
  },
  {
   "cell_type": "code",
   "execution_count": null,
   "metadata": {
    "collapsed": true
   },
   "outputs": [],
   "source": []
  }
 ],
 "metadata": {
  "anaconda-cloud": {},
  "kernelspec": {
   "display_name": "Python [default]",
   "language": "python",
   "name": "python3"
  },
  "language_info": {
   "codemirror_mode": {
    "name": "ipython",
    "version": 3
   },
   "file_extension": ".py",
   "mimetype": "text/x-python",
   "name": "python",
   "nbconvert_exporter": "python",
   "pygments_lexer": "ipython3",
   "version": "3.5.2"
  }
 },
 "nbformat": 4,
 "nbformat_minor": 1
}
